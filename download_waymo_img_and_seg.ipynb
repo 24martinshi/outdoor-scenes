{
 "cells": [
  {
   "cell_type": "markdown",
   "metadata": {
    "tags": []
   },
   "source": [
    "### Basic Installation"
   ]
  },
  {
   "cell_type": "code",
   "execution_count": null,
   "metadata": {
    "tags": []
   },
   "outputs": [],
   "source": [
    "!python3 -m pip install gcsfs waymo-open-dataset-tf-2-11-0==1.6.1\n",
    "!python3 -m pip install \"notebook>=5.3\" \"ipywidgets>=7.5\""
   ]
  },
  {
   "cell_type": "markdown",
   "metadata": {},
   "source": [
    "### Python Version"
   ]
  },
  {
   "cell_type": "code",
   "execution_count": 2,
   "metadata": {
    "tags": []
   },
   "outputs": [
    {
     "name": "stdout",
     "output_type": "stream",
     "text": [
      "Python 3.9.18\n"
     ]
    }
   ],
   "source": [
    "!python --version"
   ]
  },
  {
   "cell_type": "markdown",
   "metadata": {},
   "source": [
    "### Install TensorFlow"
   ]
  },
  {
   "cell_type": "code",
   "execution_count": null,
   "metadata": {
    "tags": []
   },
   "outputs": [],
   "source": [
    "!pip install tensorflow"
   ]
  },
  {
   "cell_type": "markdown",
   "metadata": {
    "tags": []
   },
   "source": [
    "### Initial Setup"
   ]
  },
  {
   "cell_type": "code",
   "execution_count": null,
   "metadata": {
    "id": "S7v6WUnPdOS9",
    "tags": []
   },
   "outputs": [],
   "source": [
    "#@title Initial setup\n",
    "from typing import Optional\n",
    "import warnings\n",
    "warnings.simplefilter(action='ignore', category=FutureWarning)\n",
    "\n",
    "import tensorflow as tf\n",
    "import dask.dataframe as dd\n",
    "\n",
    "dataset_dir = '/scratch/gpfs/ms90/dataset_prep'\n",
    "\n",
    "context_name = '10017090168044687777_6380_000_6400_000'\n",
    "\n",
    "def read(tag: str, file_name: str) -> dd.DataFrame:\n",
    "  \"\"\"Creates a Dask DataFrame for the component specified by its tag.\"\"\"\n",
    "  paths = tf.io.gfile.glob(f'{dataset_dir}/{tag}/{file_name}')\n",
    "  print(paths)\n",
    "  return dd.read_parquet(paths)\n"
   ]
  },
  {
   "cell_type": "markdown",
   "metadata": {},
   "source": [
    "### Image Processing - UNIFIED"
   ]
  },
  {
   "cell_type": "code",
   "execution_count": null,
   "metadata": {
    "tags": []
   },
   "outputs": [],
   "source": [
    "from PIL import Image\n",
    "import io\n",
    "import os\n",
    "import itertools\n",
    "\n",
    "base_folder_path = '/scratch/gpfs/ms90/dataset_prep'\n",
    "\n",
    "# folder_path = os.path.join(base_folder_path, 'camera_image')\n",
    "folder_path = os.path.join(base_folder_path, 'camera_segmentation')\n",
    "\n",
    "output_base_path = os.path.join(base_folder_path, 'waymo_images_4k_new')\n",
    "output_seg_path = os.path.join(base_folder_path, 'waymo_segmaps_4k_new')\n",
    "\n",
    "if not os.path.exists(output_base_path):\n",
    "    os.makedirs(output_base_path)\n",
    "if not os.path.exists(output_seg_path):\n",
    "    os.makedirs(output_seg_path)\n",
    "\n",
    "files = os.listdir(folder_path)\n",
    "\n",
    "for file_name in files:\n",
    "    if not file_name.startswith('.'):\n",
    "        cam_image_df = read('camera_image', file_name)\n",
    "        cam_seg_df = read('camera_segmentation', file_name)\n",
    "        img_df = cam_image_df.loc[cam_image_df['key.camera_name'].isin([1, 2, 3])]\n",
    "        seg_df = cam_seg_df.loc[cam_seg_df['key.camera_name'].isin([1, 2, 3])]\n",
    "        \n",
    "        # for i, seg_row in itertools.islice(iter(seg_df.iterrows()), None, None, seg_df.shape[0].compute() // 5):\n",
    "        for i, seg_row in itertools.islice(iter(seg_df.iterrows()), None, None, seg_df.shape[0].compute() // 4):\n",
    "            \n",
    "            img_key = i.replace(';', '_')\n",
    "            cam_seg_raw = seg_row['[CameraSegmentationLabelComponent].panoptic_label']\n",
    "            image_cam_id = seg_row['key.camera_name']\n",
    "            im = Image.open(io.BytesIO(cam_seg_raw))\n",
    "            \n",
    "            img_width, img_height = im.size\n",
    "            dimension_folder_name = f\"{img_width}x{img_height}\"\n",
    "            dimension_folder_path = os.path.join(output_seg_path, dimension_folder_name)\n",
    "            \n",
    "            if not os.path.exists(dimension_folder_path):\n",
    "                os.makedirs(dimension_folder_path)\n",
    "            \n",
    "            im.save(os.path.join(dimension_folder_path, f'cam_img_k={img_key}_c={image_cam_id}.png'))\n",
    "            \n",
    "            filtered_img_df = img_df.loc[\n",
    "                (img_df['key.camera_name'] == image_cam_id) &\n",
    "                (img_df['key.segment_context_name'] == seg_row['key.segment_context_name']) &\n",
    "                (img_df['key.frame_timestamp_micros'] == seg_row['key.frame_timestamp_micros'])\n",
    "            ]\n",
    "            \n",
    "            _, img_row = next(iter(filtered_img_df.iterrows()))\n",
    "            \n",
    "            cam_img_raw = img_row['[CameraImageComponent].image']\n",
    "            im = Image.open(io.BytesIO(cam_img_raw))\n",
    "            \n",
    "            img_width, img_height = im.size\n",
    "            dimension_folder_name = f\"{img_width}x{img_height}\"\n",
    "            dimension_folder_path = os.path.join(output_base_path, dimension_folder_name)\n",
    "            \n",
    "            if not os.path.exists(dimension_folder_path):\n",
    "                os.makedirs(dimension_folder_path)\n",
    "            \n",
    "            im.save(os.path.join(dimension_folder_path, f'cam_img_k={img_key}_c={image_cam_id}.png'))"
   ]
  },
  {
   "cell_type": "code",
   "execution_count": null,
   "metadata": {},
   "outputs": [],
   "source": []
  }
 ],
 "metadata": {
  "colab": {
   "collapsed_sections": [
    "3tW2MkdrIn6F",
    "IWR8_hets6c7"
   ],
   "name": "tutorial_v2.ipynb",
   "toc_visible": true
  },
  "kernelspec": {
   "display_name": "ml-env [~/.conda/envs/ml-env/]",
   "language": "python",
   "name": "conda_ml-env"
  },
  "language_info": {
   "codemirror_mode": {
    "name": "ipython",
    "version": 3
   },
   "file_extension": ".py",
   "mimetype": "text/x-python",
   "name": "python",
   "nbconvert_exporter": "python",
   "pygments_lexer": "ipython3",
   "version": "3.9.18"
  }
 },
 "nbformat": 4,
 "nbformat_minor": 4
}
