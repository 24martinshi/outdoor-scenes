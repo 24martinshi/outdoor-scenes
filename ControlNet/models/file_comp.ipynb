{
 "cells": [
  {
   "cell_type": "code",
   "execution_count": 11,
   "id": "ade8c91f-289e-4b0a-81e7-45c485c196a7",
   "metadata": {
    "tags": []
   },
   "outputs": [
    {
     "name": "stdout",
     "output_type": "stream",
     "text": [
      "Files are identical.\n"
     ]
    }
   ],
   "source": [
    "import hashlib\n",
    "\n",
    "def file_hash(filename, method='sha256'):\n",
    "    h = hashlib.new(method)\n",
    "    with open(filename, 'rb') as file:\n",
    "        chunk = 0\n",
    "        while chunk := file.read(8192):\n",
    "            h.update(chunk)\n",
    "    return h.hexdigest()\n",
    "\n",
    "# Compare two files\n",
    "file1 = 'control_sd15_seg.pth'\n",
    "file2 = 'control_sd15_seg-Copy1.pth'\n",
    "\n",
    "hash1 = file_hash(file1)\n",
    "hash2 = file_hash(file2)\n",
    "\n",
    "if hash1 == hash2:\n",
    "    print(\"Files are identical.\")\n",
    "else:\n",
    "    print(\"Files are different.\")"
   ]
  },
  {
   "cell_type": "code",
   "execution_count": null,
   "id": "4a134c81-4fdd-42c2-92ca-4cd9d95cc5e9",
   "metadata": {},
   "outputs": [],
   "source": []
  }
 ],
 "metadata": {
  "kernelspec": {
   "display_name": "ml-env [~/.conda/envs/ml-env/]",
   "language": "python",
   "name": "conda_ml-env"
  },
  "language_info": {
   "codemirror_mode": {
    "name": "ipython",
    "version": 3
   },
   "file_extension": ".py",
   "mimetype": "text/x-python",
   "name": "python",
   "nbconvert_exporter": "python",
   "pygments_lexer": "ipython3",
   "version": "3.9.18"
  }
 },
 "nbformat": 4,
 "nbformat_minor": 5
}
